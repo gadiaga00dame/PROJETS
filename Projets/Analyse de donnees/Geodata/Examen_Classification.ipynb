{
 "cells": [
  {
   "cell_type": "markdown",
   "metadata": {
    "id": "5Xmxj_YsbHmU"
   },
   "source": [
    "# Examen Classification 20 Décembre 2023\n",
    "\n",
    "Notebook à compléter et à déposer sur Tomuss\n",
    "\n",
    "A ajouter lien vers prompt ChatGPT ou Bard\n",
    "\n",
    "L'ensemble des ressources (fichiers) nécessaires sont disponible sur le google drive :\n",
    "https://drive.google.com/drive/folders/1-2S5dzlxJ4ifCGfyutujV0tdofx7L20r?usp=sharing\n",
    "\n"
   ]
  },
  {
   "cell_type": "markdown",
   "metadata": {
    "id": "8aZoDY59bgC_"
   },
   "source": [
    "# Partie I - Geo-localisation\n",
    "\n",
    "Une carte RSSI (\"Received Signal Strength Indication\"), qui se traduit en français par \"Indication de la force du signal reçu\", est un outil de mesure utilisé pour évaluer la puissance du signal radio reçu par un dispositif sans fil, comme un routeur Wi-Fi ou un point d'accès. La carte RSSI mesure la force du signal en décibels et peut être utilisée pour déterminer la qualité de la connexion sans fil. Les cartes RSSI sont souvent utilisées dans les réseaux sans fil pour diagnostiquer les problèmes de connexion et optimiser les performances du réseau.\n",
    "\n",
    "En plus d'être utilisées pour du diagnostique, les cartes RSSI peuvent également être utilisées pour localiser du matériel. Cela est possible car la force du signal reçu par un dispositif sans fil varie en fonction de la distance entre le dispositif et le point d'accès. En mesurant la force du signal reçu par un dispositif à partir de plusieurs points d'accès connus, on peut déterminer la position approximative du dispositif.\n",
    "\n",
    "Dans cette partie on se donne 4 cartes RSSI (voir fichiers RSSI_X.csv) correspondant à 4 passerelles (bornes wifi) d'un local industriel. Chaque carte RSSI est un tableau de mesures prises tout les metres (en x et y) suivant une grille cartésienne. On veut construire une fonction qui à partir des 4 forces de signal des bornes reçues donne la position $(f_1,f_2,f_3,f_4) ⟶(x,y)$.\n"
   ]
  },
  {
   "cell_type": "markdown",
   "metadata": {
    "id": "8b-tsZYmhVpW"
   },
   "source": [
    "## Question 1\n",
    "\n",
    "Analyser et afficher les 4 cartes RSSI (on pourrat faire qu'un seul graphique des 4 cartes)."
   ]
  },
  {
   "cell_type": "markdown",
   "metadata": {
    "id": "8b-tsZYmhVpW"
   },
   "source": [
    "## Question 2\n",
    "\n",
    "Proposer une méthode pour compléter les données manquantes"
   ]
  },
  {
   "cell_type": "markdown",
   "metadata": {
    "id": "S17lS9ekhutg"
   },
   "source": [
    "## Question 3\n",
    "\n",
    "Construire l'ensemble d'apprentissage du réseau qui met en correspondance les 4 forces du signal et la position $(f_1,f_2,f_3,f_4) ⟶(x,y)$.\n"
   ]
  },
  {
   "cell_type": "markdown",
   "metadata": {
    "id": "nDmDo4YDjHW_"
   },
   "source": [
    "## Question 4\n",
    "\n",
    "Proposer en argumantant vos choix un réseau de neurone dense avec un fonction Loss appropriée."
   ]
  },
  {
   "cell_type": "markdown",
   "metadata": {
    "id": "5sACWak7jujG"
   },
   "source": [
    "## Question 5\n",
    "\n",
    "En utilisant la métrique \"R2 score\" et en séparant les données en un ensemble d'apprentissage et un ensemble de test entrainer votre réseau.\n",
    "\n",
    "Tracer l'historique de l'évolution de la fonction Loss et de la métrique R2"
   ]
  },
  {
   "cell_type": "markdown",
   "metadata": {
    "id": "3qdQzwibkw1e"
   },
   "source": [
    "## Question 6\n",
    "\n",
    "Tracer l'histogramme des distances obtenues entre la position prédites et celle voulue"
   ]
  },
  {
   "cell_type": "markdown",
   "metadata": {
    "id": "n0k_RKdclmf7"
   },
   "source": [
    "## Question 7\n",
    "\n",
    "Conclure et donner la précision de votre systeme de localisation."
   ]
  },
  {
   "cell_type": "markdown",
   "metadata": {
    "id": "n0k_RKdclmf7"
   },
   "source": [
    "## Question 8\n",
    "\n",
    "Proposer une amélioration de votre modèle"
   ]
  },
  {
   "cell_type": "markdown",
   "metadata": {
    "id": "n0k_RKdclmf7"
   },
   "source": [
    "## Question 9\n",
    "\n",
    "Partager votre fil de discution ChatGPT ou autre ici."
   ]
  }
 ],
 "metadata": {
  "colab": {
   "provenance": []
  },
  "kernelspec": {
   "display_name": "Python 3 (ipykernel)",
   "language": "python",
   "name": "python3"
  },
  "language_info": {
   "codemirror_mode": {
    "name": "ipython",
    "version": 3
   },
   "file_extension": ".py",
   "mimetype": "text/x-python",
   "name": "python",
   "nbconvert_exporter": "python",
   "pygments_lexer": "ipython3",
   "version": "3.10.8"
  }
 },
 "nbformat": 4,
 "nbformat_minor": 4
}
